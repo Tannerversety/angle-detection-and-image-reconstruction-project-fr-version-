{
 "cells": [
  {
   "cell_type": "code",
   "execution_count": 14,
   "metadata": {},
   "outputs": [],
   "source": [
    "import numpy as np\n",
    "from PIL import Image\n",
    "\n",
    "from keras.preprocessing.image import ImageDataGenerator, array_to_img, img_to_array, load_img\n",
    "\n",
    "import os \n",
    "\n",
    "from os import listdir, makedirs\n",
    "from os.path import join, exists, expanduser\n",
    "import pandas as pd \n",
    "\n",
    "from PIL import ImageFilter\n",
    "from PIL import ImageOps, ImageEnhance"
   ]
  },
  {
   "cell_type": "markdown",
   "metadata": {},
   "source": [
    "On utilise les images reconstituées pour améliorer la qualité. On insére au sein de l'image reconstituée, l'image initiale (plus nette). Notebook personnel utilisé comme brouillon"
   ]
  },
  {
   "cell_type": "code",
   "execution_count": 15,
   "metadata": {},
   "outputs": [
    {
     "data": {
      "text/plain": [
       "'l01000bb5b4bd72bc5232fdbf9f6a52f75a'"
      ]
     },
     "execution_count": 15,
     "metadata": {},
     "output_type": "execute_result"
    }
   ],
   "source": [
    "# Open a file\n",
    "path2 = \"./images_translat3\"\n",
    "path = \"./models/images\"\n",
    "\n",
    "dirs = os.listdir( path )\n",
    "dirs2 = os.listdir( path2 )\n",
    "\n",
    "d = {'dirs2': dirs2}\n",
    "df = pd.DataFrame(data=d)\n",
    "dirs[0][7:-11]\n"
   ]
  },
  {
   "cell_type": "code",
   "execution_count": 31,
   "metadata": {},
   "outputs": [],
   "source": [
    "# Open a file\n",
    "path2 = \"./images_translat2\"\n",
    "dirs2 = os.listdir( path2 )\n",
    "\n",
    "for file in (dirs2):\n",
    "    img2 = Image.open('./images_translat2/' + str(file))\n",
    "    lr_img = np.array(img2)\n",
    "    img_end = np.zeros((lr_img.shape[0],int(lr_img.shape[1]/2),3))\n",
    "    img_end[:,:,:] = 255\n",
    "    #mat[np.where((mat[:,:,0] == 0) and (mat[:,:,1] == 0) and mat[:,:,2] == 0)] = 255\n",
    "                       \n",
    "            \n",
    "    img_end[:,:,:] = lr_img[:,img_end.shape[1]::,:]\n",
    "    img = array_to_img(img_end)\n",
    "    \n",
    "    img.save('./images_translat4/'+ str(file)) \n",
    "                       \n",
    "                       \n",
    "    \n",
    "\n"
   ]
  },
  {
   "cell_type": "code",
   "execution_count": null,
   "metadata": {},
   "outputs": [],
   "source": [
    "\"\"\"on insère au centre de l'image générée l'image originale pour gagner en définition \"\"\"\n",
    "\n",
    "# Open a file\n",
    "path = \"./images\"\n",
    "dirs = os.listdir( path )\n",
    "\n",
    "index = 0\n",
    "for file in (dirs):\n",
    "    index = index + 1\n",
    "    if (file[-10::] == \"inputs.png\"):\n",
    "        \n",
    "        index2 = 0\n",
    "        for file2 in (dirs):\n",
    "            index2 = index2 + 1\n",
    "            if (index2 == index + 1):\n",
    "                img2 = Image.open('./images/' + str(file))\n",
    "                img_out = Image.open('./images/' + str(file2))\n",
    "                img = img_out.filter(ImageFilter.GaussianBlur(radius=2))\n",
    "                \n",
    "                lr_img = np.array(img)\n",
    "                lr_img2 = np.array(img2)\n",
    "                \n",
    "                # convertir le noir en blanc\n",
    "                lr_img2[np.where(lr_img2[:,:,:] == 255)] = lr_img[np.where(lr_img2[:,:,:] == 255)]\n",
    "                lr_img2[np.where(lr_img2[:,:,:] < 4)] = lr_img[np.where(lr_img2[:,:,:] < 4)]\n",
    "                \n",
    "                img3 = array_to_img(lr_img2)\n",
    "                \n",
    "                img3.save('./result2/'+ str(file2)) \n",
    "                img2.save('./result2/'+ str(file))\n",
    "\n",
    "                "
   ]
  },
  {
   "cell_type": "code",
   "execution_count": 55,
   "metadata": {},
   "outputs": [],
   "source": [
    "# Open a file\n",
    "path = \"./images_translat\"\n",
    "dirs = os.listdir( path )\n",
    "\n",
    "# Open a file\n",
    "path2 = \"./final_result\"\n",
    "dirs2 = os.listdir( path2 )\n",
    "\n",
    "d = {'dirs2': dirs2}\n",
    "df = pd.DataFrame(data=d)"
   ]
  },
  {
   "cell_type": "code",
   "execution_count": null,
   "metadata": {},
   "outputs": [],
   "source": [
    "# agencer les images\n",
    "\n",
    "# Open a file\n",
    "path = \"./images_translat\"\n",
    "dirs = os.listdir( path )\n",
    "\n",
    "# Open a file\n",
    "path2 = \"./final_result\"\n",
    "dirs2 = os.listdir( path2 )\n",
    "\n",
    "for file in (dirs):\n",
    "    img1 = Image.open('./images_translat/' + str(file))\n",
    "    \n",
    "    if ((df[df['dirs2'] == 'predict' + str(file[0:-4]) +  '-outputs.png']).shape[0] != 0):\n",
    "        file2 = df[df['dirs2'] == 'predict' + str(file[0:-4]) + '-outputs.png'].iloc[0,0]\n",
    "        \n",
    "        img1 = Image.open('./images_translat/' + str(file))\n",
    "        img2 = Image.open('./final_result/' + str(file2))\n",
    "        \n",
    "            \n",
    "    \n",
    "        img1.save('./rotation_input/' + str(file)) \n",
    "        img2.save('./rotation_output/' + str(file)) \n",
    "    "
   ]
  }
 ],
 "metadata": {
  "kernelspec": {
   "display_name": "Python 3",
   "language": "python",
   "name": "python3"
  },
  "language_info": {
   "codemirror_mode": {
    "name": "ipython",
    "version": 3
   },
   "file_extension": ".py",
   "mimetype": "text/x-python",
   "name": "python",
   "nbconvert_exporter": "python",
   "pygments_lexer": "ipython3",
   "version": "3.6.8"
  }
 },
 "nbformat": 4,
 "nbformat_minor": 2
}
